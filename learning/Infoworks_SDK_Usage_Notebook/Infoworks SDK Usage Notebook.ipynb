{
 "cells": [
  {
   "cell_type": "code",
   "execution_count": null,
   "id": "b7dd6d93",
   "metadata": {},
   "outputs": [],
   "source": [
    "# Infoworks SDK Usage Notebook"
   ]
  },
  {
   "cell_type": "markdown",
   "id": "900b41f4",
   "metadata": {},
   "source": [
    "# Prerequisites\n",
    "\n",
    "* Python 3.4+ (PyPy supported)\n",
    "* Infoworks 5.3 or greater\n",
    "* Pandas Module (For Lab 6)"
   ]
  },
  {
   "cell_type": "markdown",
   "id": "3c71b8d4",
   "metadata": {},
   "source": [
    "# Lab 1: Authenticating with tokens and performing basic queries\n",
    "\n",
    "\n",
    "## Objectives\n",
    "\n",
    "* Survey the Infoworks SDK documentation\n",
    "* Install Infoworks SDK via Pip\n",
    "* Locate your refresh token in the Infoworks UI\n",
    "* Import Infoworks SDK and authenticate using your refresh token\n",
    "* Basic usage of the SDK by calling a few methods"
   ]
  },
  {
   "cell_type": "markdown",
   "id": "650c19fb",
   "metadata": {},
   "source": [
    "## Steps\n",
    "\n",
    "### A. Survey the Infoworks Python SDK documentation\n",
    "\n",
    "\n",
    "* Visit the Infoworks Python SDK documentation at:<br> \n",
    "    https://infoworks.github.io/infoworks-python-sdk/infoworks.html\n",
    " \n",
    " \n",
    "* Infoworks Python SDK uses **refresh token** authentication method."
   ]
  },
  {
   "cell_type": "markdown",
   "id": "47aefb4f",
   "metadata": {},
   "source": [
    "### B. Install Infoworks SDK via Pip \n",
    "\n",
    "* Open your terminal and enter **pip install infoworkssdk**. This will install the latest stable version of infoworks sdk.\n",
    "\n",
    "\n",
    "* Visit https://pypi.org/project/infoworkssdk/#history to see all the available versions."
   ]
  },
  {
   "cell_type": "markdown",
   "id": "7cd17ea1",
   "metadata": {},
   "source": [
    "### C. Locate your refresh token in the Infoworks UI\n",
    "\n",
    "* In Infoworks, navigate to My Profile > Settings, and click the copy button next to Refresh Token to copy the token to the clipboard."
   ]
  },
  {
   "cell_type": "markdown",
   "id": "99587d32",
   "metadata": {},
   "source": [
    "### D. Import Infoworks SDK and authenticate using your refresh token."
   ]
  },
  {
   "cell_type": "code",
   "execution_count": null,
   "id": "d2a585ad",
   "metadata": {},
   "outputs": [],
   "source": [
    "# Import Infoworks SDK Client\n",
    "from infoworks.sdk.client import InfoworksClientSDK\n",
    "\n",
    "# Define your Infoworks Environment Details\n",
    "# Replace the variables below with the correct information (e.g. iwx_protocol = https, iwx_port = 443, etc.)\n",
    "iwx_protocol = \"{protocol}\"\n",
    "iwx_host = \"{hostname}\"\n",
    "iwx_port = \"{portnumber}\"\n",
    "iwx_refresh_token = \"{infoworks_refresh_token}\"\n",
    "\n",
    "# Initialise the client\n",
    "iwx_client = InfoworksClientSDK()\n",
    "iwx_client.initialize_client_with_defaults(iwx_protocol, iwx_host, iwx_port, iwx_refresh_token)\n"
   ]
  },
  {
   "cell_type": "markdown",
   "id": "ccdbeaca",
   "metadata": {},
   "source": [
    "### E. Basic usage of the SDK by calling a few methods"
   ]
  },
  {
   "cell_type": "markdown",
   "id": "9e5f173d",
   "metadata": {},
   "source": [
    "#### List users"
   ]
  },
  {
   "cell_type": "code",
   "execution_count": 124,
   "id": "9c077a42",
   "metadata": {},
   "outputs": [
    {
     "name": "stdout",
     "output_type": "stream",
     "text": [
      "{'id': '6RkfybTRQQByEey3v', 'roles': ['admin', 'dbadmin', 'modeller', 'analyst', 'operations_analyst'], 'profile': {'name': 'Infoworks Admin', 'email': 'admin@infoworks.io', 'needs_password_reset': False, 'is_slack': False, 'medium': {'slack_details': {'username': '', 'token': '', 'channels': []}}}, 'refresh_token': '', 'accessible_domains': ['61907f7fb36697f05a0d71d4', '576a8508b25540b4b180927f', '63690bd3e69dcd04b69017f8', '6361013103be456475e2ae1d', '635aab68c2d836618fc96917', 'e1b097627a1b423f659723b1', '637762a102c5470deea60d0c', '63776e8e6c55862c1b94048c', '62ccf448068982f96b64d1b9', 'a0d6ab6431ea74a6749cff39', 'f1b68b17e40c11b07fc62128', '06cd2f5359bb805b3607b24c', 'a16273e85cba7e526a2f2443'], 'created_at': '2015-05-13T11:47:37.396Z', 'heartbeat': '2023-06-08T11:35:07.014Z', 'emails': [{'address': 'admin@infoworks.io'}], 'status': {'is_online': True, 'last_login_details': {'date': '2023-06-08T09:39:07.297Z', 'ip_address': '10.37.0.20', 'user_agent': 'Mozilla/5.0 (Macintosh; Intel Mac OS X 10_14_6) AppleWebKit/537.36 (KHTML, like Gecko) Chrome/89.0.4389.114 Safari/537.36'}, 'is_idle': False}, 'failed_logins': []}\n",
      "{'id': 'tZpZzpozWZ7nGMXoT', 'roles': ['dbadmin', 'analyst', 'modeller'], 'profile': {'name': 'test', 'email': 'test@gmail.com', 'needs_password_reset': False, 'is_slack': False, 'medium': {'slack_details': {'username': '', 'token': '', 'channels': []}}}, 'refresh_token': '', 'accessible_domains': ['62ccf448068982f96b64d1b9', '06cd2f5359bb805b3607b24c', '61907f7fb36697f05a0d71d4', '576a8508b25540b4b180927f', '63776e8e6c55862c1b94048c', '637762a102c5470deea60d0c', '63690bd3e69dcd04b69017f8', '636216762f434239be3e2832', '6364fa86e69dcd04b6901797', '6368ff07e69dcd04b69017c5', '63690183e69dcd04b69017ca', '636907b3b00d5c7b0b180d4e', '6369085fe69dcd04b69017ef', 'e1b097627a1b423f659723b1', 'f1b68b17e40c11b07fc62128', 'a0d6ab6431ea74a6749cff39', '6361013103be456475e2ae1d', '635aab68c2d836618fc96917'], 'created_at': '2023-04-19T13:31:33.649Z', 'emails': [{'address': 'test@gmail.com'}], 'status': {'last_login_details': {'date': '2023-04-19T21:09:53.627Z'}}, 'failed_logins': []}\n"
     ]
    }
   ],
   "source": [
    "list_users_response = iwx_client.list_users()\n",
    "if list_users_response['result']['status'] == \"success\":\n",
    "    users_list = list_users_response['result']['response'].get('result')\n",
    "    if users_list:\n",
    "        for user in users_list:\n",
    "            print(user)\n",
    "    else:\n",
    "        print(\"No users found\")\n",
    "else:\n",
    "    print(\"Failed to list users\")"
   ]
  },
  {
   "cell_type": "markdown",
   "id": "996c4c5b",
   "metadata": {},
   "source": [
    "#### List Sources"
   ]
  },
  {
   "cell_type": "code",
   "execution_count": 127,
   "id": "677942e4",
   "metadata": {},
   "outputs": [
    {
     "name": "stdout",
     "output_type": "stream",
     "text": [
      "{'tables': ['d853c5c1dea338c97be970ad', '8222023f5ce25cd3a69d1706', '6dedde3ff4625788d39fb714', '3c291f187f8e4e185594d9b6', 'd044ae7c57a1b77c748716fd', '6903bef7c8ffa1917992a337', '28cc02c0659df67fc7fbca0f', '737f5204658a8a25d10a673c', '91a48a9f1385959df926bfa9', 'a5d2bc7cc783040df5a8c1c9', 'c05b5fb30d4530e4df4f4ed6', '2465fb0559a8af11ec5dbd56', '6fa68b35d5e2578325f2f661'], 'id': '712d17b75a7e6f500e4e646e', 'name': 'sql_server_src', 'data_lake_schema': 'PUBLIC', 'data_lake_path': '/iw/sources/sql_server_src_schema', 'type': 'rdbms', 'sub_type': 'sqlserver', 'created_at': '2022-10-18T12:17:53.034Z', 'created_by': '6RkfybTRQQByEey3v', 'modified_at': '2022-11-03T08:54:18.537Z', 'modified_by': '', 'environment_id': 'ed1c6973a2d2046f1fe93a20', 'storage_id': '5432aa6f7bd670067e7a095b', 'quoted_identifier': '\"', 'transformation_extensions': [], 'state': 'ready', 'filter_tables_properties': {'schemas_filter': '%', 'catalogs_filter': '%', 'tables_filter': '%', 'is_data_sync_with_filter': True, 'is_filter_enabled': False}, 'is_source_ingested': True, 'is_source_connection_verified': True, 'default_step': 'configure_synchronization'}\n",
     ]
    }
   ],
   "source": [
    "list_sources_response = iwx_client.get_list_of_sources()\n",
    "if list_sources_response['result']['status'] == \"success\":\n",
    "    sources = list_sources_response['result']['response'].get('result')\n",
    "    if sources:\n",
    "        for source in sources:\n",
    "            print(source)\n",
    "    else:\n",
    "        print(\"No sources found\")\n",
    "else:\n",
    "    print(\"Failed to list sources\")"
   ]
  },
  {
   "cell_type": "markdown",
   "id": "7a564030",
   "metadata": {},
   "source": [
    "#### List Environments"
   ]
  },
  {
   "cell_type": "code",
   "execution_count": 128,
   "id": "60eb5283",
   "metadata": {},
   "outputs": [
    {
     "name": "stdout",
     "output_type": "stream",
     "text": [
      "{'id': 'ed1c6973a2d2046f1fe93a20', 'state': 'ready', 'name': 'Azure_external', 'platform': 'azure', 'modified_at': '2023-06-08T11:05:10.923Z', 'modified_by': ''}\n"
     ]
    }
   ],
   "source": [
    "list_environments_response = iwx_client.get_environment_details()\n",
    "if list_environments_response['result']['status'] == \"success\":\n",
    "    environments = list_environments_response['result']['response'].get('result')\n",
    "    if environments:\n",
    "        for environment in environments:\n",
    "            print(environment)\n",
    "    else:\n",
    "        print(\"No environments found\")\n",
    "else:\n",
    "    print(\"Failed to list environments\")"
   ]
  },
  {
   "cell_type": "markdown",
   "id": "31ae6326",
   "metadata": {},
   "source": [
    "## End of Lab1"
   ]
  },
  {
   "cell_type": "markdown",
   "id": "a4a4afc3",
   "metadata": {},
   "source": [
    "# Lab 2: Configuring RDBMS data sources for ingestion\n",
    "\n",
    "\n",
    "## Objectives\n",
    "\n",
    "* Gather information about Domains, Environments, and Storage\n",
    "* SDK methods to create an RDBMS source\n",
    "* SDK methods to configure the created RDBMS source\n",
    "* Submit a “browse tables” job and query job status using the SDK methods\n",
    "* Add tables and table metadata to a Source using the SDK methods\n",
    "* Query table metadata from a Source using the SDK methods"
   ]
  },
  {
   "cell_type": "markdown",
   "id": "715ae4d0",
   "metadata": {},
   "source": [
    "## Steps\n",
    "\n",
    "### A. Gather information about Domains, Environments, and Storage"
   ]
  },
  {
   "cell_type": "code",
   "execution_count": null,
   "id": "5b45537c",
   "metadata": {},
   "outputs": [],
   "source": [
    "# Import Infoworks SDK Client\n",
    "from infoworks.sdk.client import InfoworksClientSDK\n",
    "\n",
    "# Define your Infoworks Environment Details\n",
    "iwx_protocol = \"{protocol}\"\n",
    "iwx_host = \"{hostname}\"\n",
    "iwx_port = \"{portnumber}\"\n",
    "iwx_refresh_token = \"{infoworks_refresh_token}\"\n",
    "iwx_environment_name = \"Azure_external\"\n",
    "iwx_domain_name = \"iwx_sdk_domain1\"\n",
    "iwx_env_storage_name = \"Default_Storage\" # Storage should belong to given Environment\n",
    "\n",
    "# Initialise the client\n",
    "iwx_client = InfoworksClientSDK()\n",
    "iwx_client.initialize_client_with_defaults(iwx_protocol, iwx_host, iwx_port, iwx_refresh_token)\n",
    "\n",
    "# Fetching Environment Id from Name\n",
    "environment_id_response = iwx_client.get_environment_id_from_name(iwx_environment_name)\n",
    "if environment_id_response['result']['status'] == \"success\":\n",
    "    iwx_environment_id = environment_id_response['result']['response']['environment_id']\n",
    "    if iwx_environment_id:\n",
    "        print(f\"Infoworks Environment Id: {iwx_environment_id}\")\n",
    "    else:\n",
    "        raise Exception(f\"Environment Id Not Found with Name {iwx_environment_name}\")\n",
    "else:\n",
    "    raise Exception(f\"Status Returned as Failed\")\n",
    "\n",
    "# Fetching Domain Id from Name\n",
    "domain_id_response = iwx_client.get_domain_id(iwx_domain_name)\n",
    "if domain_id_response['result']['status'] == 'success':\n",
    "    iwx_domain_id = domain_id_response['result'].get('response', {}).get('domain_id')\n",
    "    if iwx_domain_id:\n",
    "        print(f\"Infoworks Domain Id: {iwx_domain_id}\")\n",
    "    else:\n",
    "        raise Exception(f\"Domain Id Not Found with Name {iwx_domain_name}\")\n",
    "else:\n",
    "    raise Exception(f\"Status Returned as Failed\")\n",
    "\n",
    "# Fetching Storage Id from Name\n",
    "storage_id_response = iwx_client.get_storage_id_from_name(environment_id=iwx_environment_id,\n",
    "                                                          storage_name=iwx_env_storage_name)\n",
    "if storage_id_response['result']['status'] == 'success':\n",
    "    iwx_env_storage_id = storage_id_response['result'].get('response', {}).get('storage_id')\n",
    "    if iwx_env_storage_id:\n",
    "        print(f\"Infoworks Environemnt Storage Id: {iwx_env_storage_id}\")\n",
    "    else:\n",
    "        raise Exception(f\"Storage Id Not Found with Name {iwx_env_storage_name}\")\n",
    "else:\n",
    "    raise Exception(f\"Status Returned as Failed\")\n",
    "\n",
    "    "
   ]
  },
  {
   "cell_type": "markdown",
   "id": "00280d8d",
   "metadata": {},
   "source": [
    "We fetched only IDs as they are only required in further steps. To obtain additional information, use the following methods:\n",
    "\n",
    "    Domain Details:          get_domain_details(iwx_domain_id)\n",
    "    Environment Details:     get_environment_details(iwx_environment_id)\n",
    "    Storage Details:         get_storage_details(environment_id = iwx_environment_id, \n",
    "                                                 storage_id = iwx_env_storage_id)"
   ]
  },
  {
   "cell_type": "markdown",
   "id": "fc5f99b7",
   "metadata": {},
   "source": [
    "### B. SDK methods to create an RDBMS source\n",
    "\n",
    "For information on Infoworks source types and sub types, Visit https://docs.google.com/document/d/1kmbSg3U4qP240C8e47rMCx0MfDpgze21bG2scgD1hFo/edit"
   ]
  },
  {
   "cell_type": "code",
   "execution_count": null,
   "id": "63ddbd25",
   "metadata": {},
   "outputs": [],
   "source": [
    "# Configure Source Information\n",
    "iwx_source_name = \"onboardsqlserver\"\n",
    "iwx_source_type = \"rdbms\"\n",
    "iwx_sub_type = \"sqlserver\"\n",
    "data_lake_path = \"/iw/sources/onboardsqlserver/\"\n",
    "data_lake_schema = \"onboardsqlserver\"\n",
    "\n",
    "create_source_config = {\n",
    "    \"name\": iwx_source_name,\n",
    "    \"type\": iwx_source_type,\n",
    "    \"sub_type\": iwx_sub_type,\n",
    "    \"data_lake_path\": data_lake_path,\n",
    "    \"environment_id\": iwx_environment_id,\n",
    "    \"storage_id\": iwx_env_storage_id,\n",
    "    \"data_lake_schema\": data_lake_schema,\n",
    "    \"is_source_ingested\": True\n",
    "}\n",
    "print(f\"Source Config: {create_source_config}\")\n",
    "\n",
    "create_source_response = iwx_client.create_source(source_config=create_source_config)\n",
    "\n",
    "print(f\"Response: {create_source_response}\")\n",
    "if create_source_response['result']['status'] == 'success':\n",
    "    iwx_source_id = create_source_response['result']['source_id']\n",
    "    print(f\"Infoworks Source Id: {iwx_source_id}\")\n",
    "else:\n",
    "    raise Exception(\"Failed to create source\")\n",
    "    "
   ]
  },
  {
   "cell_type": "markdown",
   "id": "6542dcd2",
   "metadata": {},
   "source": [
    "### C. SDK methods to configure the created RDBMS source"
   ]
  },
  {
   "cell_type": "code",
   "execution_count": null,
   "id": "95915bcb",
   "metadata": {},
   "outputs": [],
   "source": [
    "# Configure Source Connection Details\n",
    "driver_class_name = 'com.microsoft.sqlserver.jdbc.SQLServerDriver'\n",
    "database_url = 'jdbc:sqlserver://{your_sql_server_host}:1433;databaseName={your_db}'\n",
    "user_name = ''\n",
    "password = ''\n",
    "iwx_database = 'SQL Server'\n",
    "\n",
    "jdbc_connection_object = {\n",
    "    \"enable_log_based_cdc\": False,\n",
    "    \"driver_name\": driver_class_name,\n",
    "    \"driver_version\": \"v2\",\n",
    "    \"connection_url\": database_url,\n",
    "    \"username\": user_name,\n",
    "    \"password\": password,\n",
    "    \"connection_mode\": \"jdbc\",\n",
    "    \"database\": iwx_database,\n",
    "}\n",
    "\n",
    "print(\"Source Connection Config: {}\".format(jdbc_connection_object))\n",
    "\n",
    "connection_response = iwx_client.configure_source_connection(source_id=iwx_source_id,\n",
    "                                                             connection_object=jdbc_connection_object)\n",
    "print(f\"Response: {connection_response}\")\n",
    "\n",
    "if create_source_response['result']['status'] == 'success':\n",
    "    print (\"Configured Source Successfully\")\n",
    "else:\n",
    "    raise Exception(\"Failed to configure source\")\n",
    "    "
   ]
  },
  {
   "cell_type": "markdown",
   "id": "aec05caf",
   "metadata": {},
   "source": [
    "### D. Submit a “browse tables” job and query job status using the SDK methods\n"
   ]
  },
  {
   "cell_type": "code",
   "execution_count": null,
   "id": "35530b1e",
   "metadata": {},
   "outputs": [],
   "source": [
    "#Configure Poll Configuration\n",
    "poll_timeout=300\n",
    "polling_frequency=15\n",
    "poll_retries=3\n",
    "\n",
    "filter_tables_properties = { \n",
    "    \"schemas_filter\" : \"%dbo\", \n",
    "    \"catalogs_filter\" : \"%\", \n",
    "    \"tables_filter\" : \"%\", \n",
    "    \"is_data_sync_with_filter\" : True, \n",
    "    \"is_filter_enabled\" : True \n",
    "}\n",
    "\n",
    "print(\"Filter Tables Config: {}\".format(filter_tables_properties))\n",
    "\n",
    "browse_tables_response = iwx_client.browse_source_tables(source_id=iwx_source_id,\n",
    "                                                        filter_tables_properties=filter_tables_properties,\n",
    "                                                        poll=True,\n",
    "                                                        poll_timeout=poll_timeout,\n",
    "                                                        polling_frequency=polling_frequency,\n",
    "                                                        retries=poll_retries)\n",
    "print(f\"Response: {browse_tables_response}\")\n",
    "\n",
    "if browse_tables_response['result']['status'] == 'success':\n",
    "    print (\"Browsed Tables Successfully\")\n",
    "else:\n",
    "    raise Exception(\"Failed to browser tables\")\n"
   ]
  },
  {
   "cell_type": "markdown",
   "id": "e28b6c1a",
   "metadata": {},
   "source": [
    "### E. Add tables and table metadata to a Source using the SDK methods"
   ]
  },
  {
   "cell_type": "code",
   "execution_count": null,
   "id": "aafaa262",
   "metadata": {},
   "outputs": [],
   "source": [
    "tables_to_add_config = [{ \n",
    "    \"table_name\": \"customer\", \n",
    "    \"schema_name\": \"dbo\", \n",
    "    \"table_type\": \"TABLE\", \n",
    "    \"target_table_name\": \"sdk_customer\", \n",
    "    \"target_schema_name\": \"onboardsqlserver\",\n",
    "    \"catalog_name\": \"customer_360\"\n",
    "}]\n",
    "\n",
    "print(\"Add Tables Config: {}\".format(tables_to_add_config))\n",
    "\n",
    "# It won't monitor the metadata crawl Job as poll is set to False. You check the status in Infoworks UI.\n",
    "add_tables_to_source_response = iwx_client.add_tables_to_source(source_id=iwx_source_id,\n",
    "                                                                tables_to_add_config=tables_to_add_config,\n",
    "                                                                poll=False)\n",
    "print(f\"Response: {add_tables_to_source_response}\")\n",
    "\n",
    "if add_tables_to_source_response['result']['status'] == 'success':\n",
    "    print (\"Added Tables Successfully\")\n",
    "    iwx_table_ids = add_tables_to_source_response['result']['response']['result']['added_tables']\n",
    "else:\n",
    "    raise Exception(\"Failed to add tables\")"
   ]
  },
  {
   "cell_type": "markdown",
   "id": "5b445d5e",
   "metadata": {},
   "source": [
    "### F. Query table metadata from a Source using the SDK methods"
   ]
  },
  {
   "cell_type": "code",
   "execution_count": null,
   "id": "39faa5dd",
   "metadata": {},
   "outputs": [],
   "source": [
    "iwx_table_id = iwx_table_ids[0]\n",
    "\n",
    "get_table_response = iwx_client.get_table_info(source_id=iwx_source_id, table_id = iwx_table_id)\n",
    "                                                                \n",
    "print(f\"Response: {get_table_response}\")"
   ]
  },
  {
   "cell_type": "markdown",
   "id": "44f6855e",
   "metadata": {},
   "source": [
    "## End of Lab2"
   ]
  },
  {
   "cell_type": "markdown",
   "id": "8cce4f3c",
   "metadata": {},
   "source": [
    "# Lab 3: Batch loading file-based (CSV) data\n",
    "\n",
    "## Objectives\n",
    "\n",
    "* Gather information about Domains, Environments, and storage\n",
    "* SDK methods to create a CSV source\n",
    "* SDK methods to configure the created CSV source\n",
    "* Create file and table mappings for the CSV source using the SDK methods\n",
    "* Create a job to crawl table metadata using the SDK methods \n",
    "* Create a table ingestion job using the SDK methods"
   ]
  },
  {
   "cell_type": "markdown",
   "id": "64e58aa6",
   "metadata": {},
   "source": [
    "### A. Gather information about Domains, Environments, and Storage"
   ]
  },
  {
   "cell_type": "code",
   "execution_count": 43,
   "id": "7b126bf6",
   "metadata": {},
   "outputs": [
    {
     "name": "stdout",
     "output_type": "stream",
     "text": [
      "Infoworks Environment Id: ed1c6973a2d2046f1fe93a20\n",
      "Infoworks Domain Id: f1b68b17e40c11b07fc62128\n",
      "Infoworks Environemnt Storage Id: 5432aa6f7bd670067e7a095b\n",
      "Infoworks Environment Compute Id: c18df68e81968a4647ee3cf5\n"
     ]
    }
   ],
   "source": [
    "# Import Infoworks SDK Client\n",
    "from infoworks.sdk.client import InfoworksClientSDK\n",
    "\n",
    "# Define your Infoworks Environment Details\n",
    "iwx_protocol = \"{protocol}\"\n",
    "iwx_host = \"{hostname}\"\n",
    "iwx_port = \"{portnumber}\"\n",
    "iwx_refresh_token = \"{infoworks_refresh_token}\"\n",
    "iwx_environment_name = \"Azure_external\"\n",
    "iwx_domain_name = \"iwx_sdk_domain1\"\n",
    "iwx_env_storage_name = \"Default_Storage\" # Storage should belong to given Environment\n",
    "iwx_env_compute_name = \"Default_Persistent_Compute_Template_clone11\"\n",
    "\n",
    "# Initialise the client\n",
    "iwx_client = InfoworksClientSDK()\n",
    "iwx_client.initialize_client_with_defaults(iwx_protocol, iwx_host, iwx_port, iwx_refresh_token)\n",
    "\n",
    "# Fetching Environment Id from Name\n",
    "environment_id_response = iwx_client.get_environment_id_from_name(iwx_environment_name)\n",
    "if environment_id_response['result']['status'] == \"success\":\n",
    "    iwx_environment_id = environment_id_response['result']['response']['environment_id']\n",
    "    if iwx_environment_id:\n",
    "        print(f\"Infoworks Environment Id: {iwx_environment_id}\")\n",
    "    else:\n",
    "        raise Exception(f\"Environment Id Not Found with Name {iwx_environment_name}\")\n",
    "else:\n",
    "    raise Exception(f\"Status Returned as Failed\")\n",
    "\n",
    "# Fetching Domain Id from Name\n",
    "domain_id_response = iwx_client.get_domain_id(iwx_domain_name)\n",
    "if domain_id_response['result']['status'] == 'success':\n",
    "    iwx_domain_id = domain_id_response['result'].get('response', {}).get('domain_id')\n",
    "    if iwx_domain_id:\n",
    "        print(f\"Infoworks Domain Id: {iwx_domain_id}\")\n",
    "    else:\n",
    "        raise Exception(f\"Domain Id Not Found with Name {iwx_domain_name}\")\n",
    "else:\n",
    "    raise Exception(f\"Status Returned as Failed\")\n",
    "\n",
    "# Fetching Storage Id from Name\n",
    "storage_id_response = iwx_client.get_storage_id_from_name(environment_id=iwx_environment_id,\n",
    "                                                          storage_name=iwx_env_storage_name)\n",
    "if storage_id_response['result']['status'] == 'success':\n",
    "    iwx_env_storage_id = storage_id_response['result'].get('response', {}).get('storage_id')\n",
    "    if iwx_env_storage_id:\n",
    "        print(f\"Infoworks Environemnt Storage Id: {iwx_env_storage_id}\")\n",
    "    else:\n",
    "        raise Exception(f\"Storage Id Not Found with Name {iwx_env_storage_name}\")\n",
    "else:\n",
    "    raise Exception(f\"Status Returned as Failed\")\n",
    "\n",
    "# Fetching Compute Id from Name\n",
    "environment_compute_id_response = iwx_client.get_compute_id_from_name(iwx_environment_id, iwx_env_compute_name)\n",
    "if environment_compute_id_response['result']['status'] == \"success\":\n",
    "    iwx_env_compute_id = environment_compute_id_response['result'].get('response',{}).get('compute_id')\n",
    "    if iwx_env_compute_id:\n",
    "        print(f\"Infoworks Environment Compute Id: {iwx_env_compute_id}\")\n",
    "    else:\n",
    "        raise Exception(f\"Failed to find environment compute id from name {iwx_env_compute_name}\")\n",
    "else:\n",
    "    raise Exception(f\"Status Returned as Failed\")\n"
   ]
  },
  {
   "cell_type": "markdown",
   "id": "eb44a9f6",
   "metadata": {},
   "source": [
    "We fetched only IDs as they are only required in further steps. To obtain additional information, use the following methods:\n",
    "\n",
    "    Domain Details:          get_domain_details(iwx_domain_id)\n",
    "    Environment Details:     get_environment_details(iwx_environment_id)\n",
    "    Storage Details:         get_storage_details(environment_id = iwx_environment_id, \n",
    "                                                 storage_id = iwx_env_storage_id)"
   ]
  },
  {
   "cell_type": "markdown",
   "id": "6e676d23",
   "metadata": {},
   "source": [
    "### B. SDK methods to create a CSV source"
   ]
  },
  {
   "cell_type": "code",
   "execution_count": 12,
   "id": "bf07d0cb",
   "metadata": {},
   "outputs": [
    {
     "name": "stdout",
     "output_type": "stream",
     "text": [
      "Source Config: {'name': 'onboardcsvsource', 'type': 'file', 'sub_type': 'structured', 'data_lake_path': '/iw/sources/onboardcsvsource/', 'environment_id': 'ed1c6973a2d2046f1fe93a20', 'storage_id': '5432aa6f7bd670067e7a095b', 'data_lake_schema': 'onboardcsvsource', 'is_source_ingested': True}\n",
      "Response: {'error': {'error_code': None, 'error_desc': None}, 'result': {'job_id': None, 'status': 'success', 'source_id': '647ee5cb314dad5c8de6c72b', 'response': {'message': 'Source created successfully', 'result': {'id': '647ee5cb314dad5c8de6c72b'}}}}\n",
      "Infoworks Source Id: 647ee5cb314dad5c8de6c72b\n"
     ]
    }
   ],
   "source": [
    "# Configure Source Information\n",
    "iwx_source_name = \"onboardcsvsource\"\n",
    "iwx_source_type = \"file\"\n",
    "iwx_sub_type = \"structured\"\n",
    "data_lake_path = \"/iw/sources/onboardcsvsource/\"\n",
    "data_lake_schema = \"onboardcsvsource\"\n",
    "\n",
    "create_source_config = {\n",
    "    \"name\": iwx_source_name,\n",
    "    \"type\": iwx_source_type,\n",
    "    \"sub_type\": iwx_sub_type,\n",
    "    \"data_lake_path\": data_lake_path,\n",
    "    \"environment_id\": iwx_environment_id,\n",
    "    \"storage_id\": iwx_env_storage_id,\n",
    "    \"data_lake_schema\": data_lake_schema,\n",
    "    \"is_source_ingested\": True\n",
    "}\n",
    "print(f\"Source Config: {create_source_config}\")\n",
    "\n",
    "create_source_response = iwx_client.create_source(source_config=create_source_config)\n",
    "\n",
    "print(f\"Response: {create_source_response}\")\n",
    "\n",
    "if create_source_response['result']['status'] == 'success':\n",
    "    iwx_source_id = create_source_response['result']['source_id']\n",
    "    print(f\"Infoworks Source Id: {iwx_source_id}\")\n",
    "else:\n",
    "    print(\"Failed to create source\")\n",
    "    "
   ]
  },
  {
   "cell_type": "markdown",
   "id": "e9c72891",
   "metadata": {},
   "source": [
    "### C. SDK methods to configure the created CSV source"
   ]
  },
  {
   "cell_type": "code",
   "execution_count": 14,
   "id": "26c9cec8",
   "metadata": {},
   "outputs": [
    {
     "name": "stdout",
     "output_type": "stream",
     "text": [
      "Source Connection Config: {'source_base_path': 'abfss://validatemetadata@iwxgen2support.dfs.core.windows.net/', 'storage': {'storage_type': 'cloud', 'cloud_type': 'adls_gen2', 'access_type': 'access_key', 'access_scheme': 'abfss://', 'storage_account_name': 'iwxgen2support', 'file_system': 'validatemetadata', 'access_key_name': '', 'support_gov_cloud': False}, 'source_base_path_relative': '/nifi-samples/samples/'}\n",
      "Response: {'error': {'error_code': None, 'error_desc': None}, 'result': {'job_id': None, 'status': 'success', 'source_id': '', 'response': {'message': 'Connection details successfully added', 'result': True}}}\n",
      "Infoworks Source Configured Successfully\n"
     ]
    }
   ],
   "source": [
    "# Configure Source Connection Details\n",
    "container_name = 'validatemetadata'\n",
    "storage_account_name ='iwxgen2support'\n",
    "source_base_path = '/nifi-samples/samples/'\n",
    "access_key = \"{your_storage_access_key}\"\n",
    "\n",
    "azure_connection_object = {\n",
    "    \"source_base_path\": \"abfss://{container_name}@{storage_name}.dfs.core.windows.net/\"\n",
    "    .format(container_name=container_name,storage_name=storage_account_name),\n",
    "    \"storage\": {\n",
    "        \"storage_type\": \"cloud\",\n",
    "        \"cloud_type\": \"adls_gen2\",\n",
    "        \"access_type\": \"access_key\",\n",
    "        \"access_scheme\": \"abfss://\",\n",
    "        \"storage_account_name\": storage_account_name,\n",
    "        \"file_system\": container_name,\n",
    "        \"access_key_name\": access_key,\n",
    "        \"support_gov_cloud\": False\n",
    "    },\n",
    "    \"source_base_path_relative\": source_base_path\n",
    "}\n",
    "print(f\"Source Connection Config: {azure_connection_object}\")\n",
    "\n",
    "connection_response = iwx_client.configure_source_connection(source_id=iwx_source_id, \n",
    "                                                             connection_object=azure_connection_object)\n",
    "\n",
    "print(f\"Response: {connection_response}\")\n",
    "\n",
    "if connection_response['result']['status'] == 'success':\n",
    "    print(\"Infoworks Source Configured Successfully\")\n",
    "else:\n",
    "    print(\"Failed to configure source\")\n",
    "    "
   ]
  },
  {
   "cell_type": "markdown",
   "id": "fccf7ee3",
   "metadata": {},
   "source": [
    "### D. Create file and table mappings for the CSV source using the SDK methods"
   ]
  },
  {
   "cell_type": "code",
   "execution_count": 25,
   "id": "71f839d7",
   "metadata": {},
   "outputs": [
    {
     "name": "stdout",
     "output_type": "stream",
     "text": [
      "File Mappings Config: {'configuration': {'source_file_properties': {'column_enclosed_by': '', 'column_separator': ',', 'encoding': 'UTF-8', 'escape_character': '\\\\', 'header_rows_count': 1}, 'target_relative_path': '/sampletargettable', 'deltaLake_table_name': 'sampletargettable', 'source_file_type': 'csv', 'ingest_subdirectories': False, 'source_relative_path': '/acas/con_chng_ord_det/', 'exclude_filename_regex': '', 'include_filename_regex': '^ACAS_CON_CHNG_ORD_DET_F_.*.dat.gz$', 'is_archive_enabled': False, 'target_schema_name': 'sampletargetschema', 'target_table_name': 'sampletargettable'}, 'source': '647ee5cb314dad5c8de6c72b', 'name': 'sampletargettable'}\n",
      "Response: {'error': {'error_code': None, 'error_desc': None}, 'result': {'job_id': None, 'status': 'success', 'source_id': '', 'response': {'message': 'Table Created Successfully', 'result': {'id': '647f2a58314dad5c8de6c72c'}}}}\n",
      "Added Table Successfully : 647f2a58314dad5c8de6c72c\n"
     ]
    }
   ],
   "source": [
    "# Configure File Mappings Information\n",
    "source_relative_path = '/acas/con_chng_ord_det/'\n",
    "include_filename_regex = '^ACAS_CON_CHNG_ORD_DET_F_.*.dat.gz$'\n",
    "target_table_name = 'sampletargettable'\n",
    "target_schema_name = 'sampletargetschema'\n",
    "\n",
    "file_mappings_config = {\n",
    "    \"configuration\":\n",
    "        {\"source_file_properties\":\n",
    "            {\n",
    "                \"column_enclosed_by\": \"\",\n",
    "                \"column_separator\": \",\",\n",
    "                \"encoding\": \"UTF-8\",\n",
    "                \"escape_character\": \"\\\\\",\n",
    "                \"header_rows_count\": 1\n",
    "            },\n",
    "            \"target_relative_path\": \"/{name}\".format(name=target_table_name),\n",
    "            \"deltaLake_table_name\": target_table_name,\n",
    "            \"source_file_type\": \"csv\",\n",
    "            \"ingest_subdirectories\": False,\n",
    "            \"source_relative_path\": source_relative_path,\n",
    "            \"exclude_filename_regex\": \"\",\n",
    "            \"include_filename_regex\": include_filename_regex,\n",
    "            \"is_archive_enabled\": False,\n",
    "            \"target_schema_name\": target_schema_name,\n",
    "            \"target_table_name\": target_table_name,\n",
    "        },\n",
    "    \"source\": iwx_source_id,\n",
    "    \"name\": target_table_name\n",
    "}\n",
    "print(f\"File Mappings Config: {file_mappings_config}\")\n",
    "\n",
    "add_tables_response = iwx_client.add_table_and_file_mappings_for_csv(source_id=iwx_source_id,\n",
    "                                                                     file_mappings_config=file_mappings_config)\n",
    "\n",
    "print(f\"Response: {add_tables_response}\")\n",
    "\n",
    "if add_tables_response['result']['status'] == 'success':\n",
    "    iwx_table_id = add_tables_response['result']['response']['result']['id']\n",
    "    print(f\"Added Table Successfully : {iwx_table_id}\")\n",
    "else:\n",
    "    print(\"Failed to add tables\")"
   ]
  },
  {
   "cell_type": "markdown",
   "id": "c4a675be",
   "metadata": {},
   "source": [
    "### E. Create a job to crawl table metadata using the SDK methods "
   ]
  },
  {
   "cell_type": "code",
   "execution_count": null,
   "id": "2e34e0d9",
   "metadata": {},
   "outputs": [],
   "source": [
    "metadata_crawl_config = {\"job_type\": \"source_fetch_metadata\", \"overwrite\": True,\n",
    "                                     \"table_ids\": [iwx_table_id]}\n",
    "\n",
    "print(f\"Metadata Crawl Config: {metadata_crawl_config}\")\n",
    "\n",
    "metadata_crawl_response = iwx_client.submit_source_job(source_id=iwx_source_id, body=metadata_crawl_config,\n",
    "                                                       poll=True, poll_timeout=-1, polling_frequency=15, retries=3)\n",
    "\n",
    "print(f\"Response: {metadata_crawl_response}\")\n",
    "\n",
    "metadata_crawl_status = metadata_crawl_response['result']['response'].get('result',{}).get('status')\n",
    "job_id = metadata_crawl_response['result']['job_id']\n",
    "\n",
    "print(f\"Infoworks Job ID: {job_id}\")\n",
    "\n",
    "if metadata_crawl_status == 'success':\n",
    "    print(f\"Metadata Crawl Successfully\")\n",
    "else:\n",
    "    print(f\"Metadata Crawl {metadata_crawl_status.upper()}\")"
   ]
  },
  {
   "cell_type": "markdown",
   "id": "e5c773eb",
   "metadata": {},
   "source": [
    "### F. Create a table ingestion job using the SDK methods"
   ]
  },
  {
   "cell_type": "code",
   "execution_count": 33,
   "id": "301677ac",
   "metadata": {},
   "outputs": [
    {
     "name": "stdout",
     "output_type": "stream",
     "text": [
      "Response: {'error': {'error_code': 1406, 'error_desc': 'Failed to submit the source job.'}, 'result': {'job_id': None, 'status': 'failed', 'source_id': '', 'response': {'message': 'Resource not found', 'details': 'Compute Template not Found for Job.', 'iw_code': 'IW10001', 'help': 'http://api.infoworks.io/help/IW10001'}}}\n",
      "Infoworks Job ID: None\n",
      "Failed to fetch job status\n"
     ]
    }
   ],
   "source": [
    "job_type = \"truncate_reload\"\n",
    "cluster_key = \"interactive_cluster_id\"\n",
    "\n",
    "table_ingestion_body = {\"job_type\": job_type,\n",
    "                        \"job_name\": \"Jobs_via_Infoworks_Job_Trigger_Script\",\n",
    "                        cluster_key: iwx_env_compute_id,\n",
    "                        \"table_ids\": [iwx_table_id]}\n",
    "\n",
    "print(f\"Table Ingestion Config: {table_ingestion_body}\")\n",
    "\n",
    "table_ingestion_response = iwx_client.submit_source_job(source_id=iwx_source_id,\n",
    "                                                        body=table_ingestion_body,\n",
    "                                                        poll=True, poll_timeout=86400,\n",
    "                                                        polling_frequency=30, retries=3)\n",
    "\n",
    "print(f\"Response: {table_ingestion_response}\")\n",
    "\n",
    "job_id = table_ingestion_response['result'].get('job_id')\n",
    "\n",
    "print(f\"Infoworks Job ID: {job_id}\")\n",
    "\n",
    "if table_ingestion_response['result']['status'] == 'success':\n",
    "    ingestion_status = table_ingestion_response['result']['response'].get('result', {}).get('status')\n",
    "\n",
    "    if ingestion_status in ('success', 'completed'):\n",
    "        print(\"Table Ingestion Completed Successfully\")\n",
    "    else:\n",
    "        print(f\"Table Ingestion {ingestion_status.upper()}\")\n",
    "else:\n",
    "    print(\"Failed to fetch job status\")"
   ]
  },
  {
   "cell_type": "markdown",
   "id": "75b4ef76",
   "metadata": {},
   "source": [
    "## End of Lab3"
   ]
  },
  {
   "cell_type": "markdown",
   "id": "7b61b2e7",
   "metadata": {},
   "source": [
    "# Lab 4: Using Transformation Pipelines with SDK methods\n",
    "\n",
    "## Objectives\n",
    "\n",
    "* Use the SDK methods to gather information about your Infoworks configuration\n",
    "* Add Sources to a Domain using the SDK methods\n",
    "* Create a new Pipeline using the SDK methods\n",
    "* Configure a Pipeline with custom SQL using the SDK methods\n",
    "* Use the SDK methods to create a Pipeline job \n",
    "* Examine Pipeline properties using the SDK methods"
   ]
  },
  {
   "cell_type": "markdown",
   "id": "c3edcea8",
   "metadata": {},
   "source": [
    "### A. Use the SDK methods to gather information about your Infoworks configuration"
   ]
  },
  {
   "cell_type": "code",
   "execution_count": 44,
   "id": "8120d087",
   "metadata": {},
   "outputs": [
    {
     "name": "stdout",
     "output_type": "stream",
     "text": [
      "Infoworks Environment Id: ed1c6973a2d2046f1fe93a20\n",
      "Infoworks Domain Id: f1b68b17e40c11b07fc62128\n",
      "Infoworks Environemnt Storage Id: 5432aa6f7bd670067e7a095b\n",
      "Infoworks Environment Compute Id: c18df68e81968a4647ee3cf5\n",
      "Infoworks Source(RBDMS) Id: 644a7835c2c96c5a634beab8\n",
      "Infoworks File Source(FILE) Id: 647ee5cb314dad5c8de6c72b\n"
     ]
    }
   ],
   "source": [
    "# Import Infoworks SDK Client\n",
    "from infoworks.sdk.client import InfoworksClientSDK\n",
    "\n",
    "# Define your Infoworks Environment Details\n",
    "iwx_protocol = \"{protocol}\"\n",
    "iwx_host = \"{hostname}\"\n",
    "iwx_port = \"{portnumber}\"\n",
    "iwx_refresh_token = \"{infoworks_refresh_token}\"\n",
    "iwx_environment_name = \"Azure_external\"\n",
    "iwx_env_storage_name = \"Default_Storage\"\n",
    "iwx_env_compute_name = \"Default_Persistent_Compute_Template_clone11\"\n",
    "iwx_domain_name = \"iwx_sdk_domain1\"\n",
    "iwx_source_name_rdbms = 'onboardsqlserver'\n",
    "iwx_source_name_file = 'onboardcsvsource'\n",
    "\n",
    "# Initialise the client\n",
    "iwx_client = InfoworksClientSDK()\n",
    "iwx_client.initialize_client_with_defaults(iwx_protocol, iwx_host, iwx_port, iwx_refresh_token)\n",
    "\n",
    "# Fetching Environment Id from Name\n",
    "environment_id_response = iwx_client.get_environment_id_from_name(iwx_environment_name)\n",
    "if environment_id_response['result']['status'] == \"success\":\n",
    "    iwx_environment_id = environment_id_response['result']['response']['environment_id']\n",
    "    if iwx_environment_id:\n",
    "        print(f\"Infoworks Environment Id: {iwx_environment_id}\")\n",
    "    else:\n",
    "        raise Exception(f\"Environment Id Not Found with Name {iwx_environment_name}\")\n",
    "else:\n",
    "    raise Exception(f\"Status Returned as Failed\")\n",
    "\n",
    "# Fetching Domain Id from Name\n",
    "domain_id_response = iwx_client.get_domain_id(iwx_domain_name)\n",
    "if domain_id_response['result']['status'] == 'success':\n",
    "    iwx_domain_id = domain_id_response['result'].get('response', {}).get('domain_id')\n",
    "    if iwx_domain_id:\n",
    "        print(f\"Infoworks Domain Id: {iwx_domain_id}\")\n",
    "    else:\n",
    "        raise Exception(f\"Domain Id Not Found with Name {iwx_domain_name}\")\n",
    "else:\n",
    "    raise Exception(f\"Status Returned as Failed\")\n",
    "\n",
    "# Fetching Storage Id from Name\n",
    "storage_id_response = iwx_client.get_storage_id_from_name(environment_id=iwx_environment_id,\n",
    "                                                          storage_name=iwx_env_storage_name)\n",
    "if storage_id_response['result']['status'] == 'success':\n",
    "    iwx_env_storage_id = storage_id_response['result'].get('response', {}).get('storage_id')\n",
    "    if iwx_env_storage_id:\n",
    "        print(f\"Infoworks Environemnt Storage Id: {iwx_env_storage_id}\")\n",
    "    else:\n",
    "        raise Exception(f\"Storage Id Not Found with Name {iwx_env_storage_name}\")\n",
    "else:\n",
    "    raise Exception(f\"Status Returned as Failed\")\n",
    "\n",
    "# Fetching Compute Id from Name\n",
    "environment_compute_id_response = iwx_client.get_compute_id_from_name(iwx_environment_id, iwx_env_compute_name)\n",
    "if environment_compute_id_response['result']['status'] == \"success\":\n",
    "    iwx_env_compute_id = environment_compute_id_response['result']['response']['compute_id']\n",
    "    if iwx_env_compute_id:\n",
    "        print(f\"Infoworks Environment Compute Id: {iwx_env_compute_id}\")\n",
    "    else:\n",
    "        raise Exception(f\"Failed to find environment compute id from name {iwx_env_compute_name}\")\n",
    "else:\n",
    "    raise Exception(f\"Status Returned as Failed\")\n",
    "\n",
    "# Fetching Source Id from Name\n",
    "rdbms_source_id_response = iwx_client.get_sourceid_from_name(iwx_source_name_rdbms)\n",
    "if rdbms_source_id_response['result']['status'] == \"success\":\n",
    "    iwx_rdbms_source_id = rdbms_source_id_response['result'].get('response', {}).get('id')\n",
    "    if iwx_rdbms_source_id:\n",
    "        print(f\"Infoworks Source(RBDMS) Id: {iwx_rdbms_source_id}\")\n",
    "    else:\n",
    "        raise Exception(f\"Source Id Not Found with Name {iwx_source_name_rdbms}\")\n",
    "else:\n",
    "    raise Exception(f\"Status Returned as Failed\")\n",
    "    \n",
    "# Fetching Source Id from Name\n",
    "file_source_id_response = iwx_client.get_sourceid_from_name(iwx_source_name_file)\n",
    "if file_source_id_response['result']['status'] == \"success\":\n",
    "    iwx_file_source_id = file_source_id_response['result'].get('response', {}).get('id')\n",
    "    if iwx_file_source_id:\n",
    "        print(f\"Infoworks File Source(FILE) Id: {iwx_file_source_id}\")\n",
    "    else:\n",
    "        raise Exception(f\"Source Id Not Found with Name {iwx_source_name_file}\")\n",
    "else:\n",
    "    raise Exception(f\"Status Returned as Failed\")\n"
   ]
  },
  {
   "cell_type": "markdown",
   "id": "72314b5e",
   "metadata": {},
   "source": [
    "### B. Add Sources to a Domain using the REST API\n",
    "\n",
    "**Note – Pipelines exist within Domains, so in order to access a data source, that source must also be part of the pipeline’s domain.**"
   ]
  },
  {
   "cell_type": "code",
   "execution_count": 45,
   "id": "cfab1c13",
   "metadata": {},
   "outputs": [
    {
     "name": "stdout",
     "output_type": "stream",
     "text": [
      "Domain Config: {'entity_ids': ['644a7835c2c96c5a634beab8', '647ee5cb314dad5c8de6c72b']}\n",
      "Response: {'error': {'error_code': None, 'error_desc': None}, 'result': {'entity_id': None, 'job_id': None, 'status': 'success', 'response': {'message': 'Successfully added accessible sources to the domain'}}}\n",
      "Added source to domain successfully\n"
     ]
    }
   ],
   "source": [
    "# Adding created rdbms and file sources to domain\n",
    "domain_body = {\"entity_ids\": [iwx_rdbms_source_id, iwx_file_source_id]}\n",
    "\n",
    "print(f\"Domain Config: {domain_body}\")\n",
    "\n",
    "add_source_to_domain_response = iwx_client.add_source_to_domain(iwx_domain_id, config_body=domain_body)\n",
    "\n",
    "print(f\"Response: {add_source_to_domain_response}\")\n",
    "\n",
    "if add_source_to_domain_response['result']['status'] == \"success\":\n",
    "    print(\"Added source to domain successfully\")\n",
    "else:\n",
    "    print(\"Failed to add sources to domain\")"
   ]
  },
  {
   "cell_type": "markdown",
   "id": "2d96cb77",
   "metadata": {},
   "source": [
    "### C. Create a new Pipeline using the SDK methods"
   ]
  },
  {
   "cell_type": "code",
   "execution_count": 48,
   "id": "d900b029",
   "metadata": {},
   "outputs": [
    {
     "name": "stdout",
     "output_type": "stream",
     "text": [
      "Pipeline Config: {'name': 'SamplePipeline', 'batch_engine': 'SPARK', 'domain_id': 'f1b68b17e40c11b07fc62128', 'storage_id': '5432aa6f7bd670067e7a095b', 'compute_template_id': 'c18df68e81968a4647ee3cf5', 'environment_id': 'ed1c6973a2d2046f1fe93a20', 'ml_engine': 'SPARK'}\n",
      "Reponse: {'error': {'error_code': None, 'error_desc': None}, 'result': {'job_id': None, 'status': 'success', 'pipeline_id': '6480329bc2c96c5a634bf8a6', 'response': {'message': 'Pipeline Created Successfully', 'result': {'id': '6480329bc2c96c5a634bf8a6'}}}}\n",
      "Infoworks Pipeline Id: 6480329bc2c96c5a634bf8a6\n"
     ]
    }
   ],
   "source": [
    "# Configure Pipeline Information\n",
    "pipeline_name = \"SamplePipeline\"\n",
    "pipeline_body = {\n",
    "    \"name\": pipeline_name,\n",
    "    \"batch_engine\": \"SPARK\",\n",
    "    \"domain_id\": iwx_domain_id,\n",
    "    \"storage_id\": iwx_env_storage_id,\n",
    "    \"compute_template_id\": iwx_env_compute_id,\n",
    "    \"environment_id\": iwx_environment_id,\n",
    "    \"ml_engine\": \"SPARK\"\n",
    "}\n",
    "\n",
    "print(f\"Pipeline Config: {pipeline_body}\")\n",
    "\n",
    "create_pipeline_response = iwx_client.create_pipeline(pipeline_body)\n",
    "\n",
    "print(f\"Reponse: {create_pipeline_response}\")\n",
    "\n",
    "if create_pipeline_response['result']['status'] == \"success\":\n",
    "    iwx_pipeline_id = create_pipeline_response['result']['response'].get('result',{}).get('id')\n",
    "    if iwx_pipeline_id:\n",
    "        print(f\"Infoworks Pipeline Id: {iwx_pipeline_id}\")\n",
    "    else:\n",
    "        print(f\"Failed to create Pipeline\")\n",
    "else:\n",
    "    print(f\"Status Returned as Failed\")"
   ]
  },
  {
   "cell_type": "markdown",
   "id": "03fea0f3",
   "metadata": {},
   "source": [
    "### D. Configure a Pipeline with custom SQL using the SDK methods"
   ]
  },
  {
   "cell_type": "code",
   "execution_count": 51,
   "id": "76e2516e",
   "metadata": {},
   "outputs": [
    {
     "name": "stdout",
     "output_type": "stream",
     "text": [
      "SQL Import Config: {'dry_run': False, 'sql': 'select * from onboardsqlserver.customer', 'sql_import_configuration': {'quoted_identifier': 'DOUBLE_QUOTE', 'sql_dialect': 'LENIENT'}}\n",
      "Reponse: {'error': {'error_code': None, 'error_desc': None}, 'result': {'job_id': None, 'status': 'success', 'pipeline_id': '6480329bc2c96c5a634bf8a6', 'response': {'message': 'Successfully imported the SQL.', 'result': {'import_response': {'processing_stage': 'PIPELINE'}, 'status': 'success'}}}}\n",
      "Pipeline configured successfully\n"
     ]
    }
   ],
   "source": [
    "# Configure Pipeline Information\n",
    "sql_import_config = {\n",
    "    \"dry_run\": False,\n",
    "    \"sql\": \"select * from onboardsqlserver.customer\",\n",
    "    \"sql_import_configuration\": {\n",
    "        \"quoted_identifier\": \"DOUBLE_QUOTE\",\n",
    "        \"sql_dialect\": \"LENIENT\"\n",
    "    }\n",
    "}\n",
    "\n",
    "print(f\"SQL Import Config: {sql_import_config}\")\n",
    "\n",
    "sql_import_response = iwx_client.sql_import_into_pipeline(iwx_pipeline_id, iwx_domain_id, sql_import_config)\n",
    "\n",
    "print(f\"Reponse: {sql_import_response}\")\n",
    "\n",
    "if sql_import_response['result']['status'] == \"success\":\n",
    "    print(\"Pipeline configured successfully\")\n",
    "else:\n",
    "    print(\"Failed to configure pipeline\")\n"
   ]
  },
  {
   "cell_type": "markdown",
   "id": "44d12903",
   "metadata": {},
   "source": [
    "### E. Use the SDK methods to create a Pipeline job"
   ]
  },
  {
   "cell_type": "code",
   "execution_count": 52,
   "id": "d49d387e",
   "metadata": {},
   "outputs": [
    {
     "name": "stdout",
     "output_type": "stream",
     "text": [
      "Reponse: {'error': {'error_code': None, 'error_desc': None}, 'result': {'entity_id': None, 'job_id': None, 'status': 'success', 'response': {'message': 'Job created successfully.', 'result': {'id': '64804256314dad5c8de6c738'}}}}\n",
      "Submitted job successfully: 64804256314dad5c8de6c738\n"
     ]
    }
   ],
   "source": [
    "submit_pipeline_job_response = iwx_client.submit_pipeline_job(\n",
    "    domain_id=iwx_domain_id, pipeline_id=iwx_pipeline_id, job_type='pipeline_build')\n",
    "\n",
    "print(f\"Reponse: {submit_pipeline_job_response}\")\n",
    "\n",
    "if submit_pipeline_job_response['result']['status'] == \"success\":\n",
    "    job_id = submit_pipeline_job_response['result']['response']['result']['id']\n",
    "    print(f\"Submitted job successfully: {job_id}\")\n",
    "else:\n",
    "    print(\"Failed to submit job\")"
   ]
  },
  {
   "cell_type": "markdown",
   "id": "7757fe4a",
   "metadata": {},
   "source": [
    "### F. Examine Pipeline properties using the SDK methods"
   ]
  },
  {
   "cell_type": "code",
   "execution_count": 55,
   "id": "f786c51d",
   "metadata": {},
   "outputs": [
    {
     "name": "stdout",
     "output_type": "stream",
     "text": [
      "Reponse: {'error': {'error_code': None, 'error_desc': None}, 'result': {'job_id': None, 'status': 'success', 'pipeline_id': '6480329bc2c96c5a634bf8a6', 'response': {'message': '', 'result': {'id': '6480329bc2c96c5a634bf8a6', 'environment_id': 'ed1c6973a2d2046f1fe93a20', 'storage_id': '5432aa6f7bd670067e7a095b', 'compute_template_id': 'c18df68e81968a4647ee3cf5', 'active_version_id': '648037c1c2c96c5a634bf8a8', 'domain_id': 'f1b68b17e40c11b07fc62128', 'name': 'SamplePipeline', 'batch_engine': 'SPARK', 'ml_engine': 'SPARK', 'metadata_version': 3, 'versions_count': 2, 'run_job_on_data_plane': True, 'created_at': '2023-06-07T07:32:43.874Z', 'created_by': '6RkfybTRQQByEey3v', 'modified_at': '2023-06-07T07:54:41.135Z', 'modified_by': ''}}}}\n",
      "Pipeline Info: {'id': '6480329bc2c96c5a634bf8a6', 'environment_id': 'ed1c6973a2d2046f1fe93a20', 'storage_id': '5432aa6f7bd670067e7a095b', 'compute_template_id': 'c18df68e81968a4647ee3cf5', 'active_version_id': '648037c1c2c96c5a634bf8a8', 'domain_id': 'f1b68b17e40c11b07fc62128', 'name': 'SamplePipeline', 'batch_engine': 'SPARK', 'ml_engine': 'SPARK', 'metadata_version': 3, 'versions_count': 2, 'run_job_on_data_plane': True, 'created_at': '2023-06-07T07:32:43.874Z', 'created_by': '6RkfybTRQQByEey3v', 'modified_at': '2023-06-07T07:54:41.135Z', 'modified_by': ''}\n"
     ]
    }
   ],
   "source": [
    "get_pipeline_info_response = iwx_client.get_pipeline(iwx_pipeline_id, iwx_domain_id)\n",
    "\n",
    "print(f\"Reponse: {get_pipeline_info_response}\")\n",
    "\n",
    "if get_pipeline_info_response['result']['status'] == \"success\":\n",
    "    pipeline_info = get_pipeline_info_response['result']['response']['result']\n",
    "    print(f\"Pipeline Info: {pipeline_info}\")\n",
    "else:\n",
    "    print(\"Failed to fetch pipeline information\")"
   ]
  },
  {
   "cell_type": "markdown",
   "id": "bd24a8a6",
   "metadata": {},
   "source": [
    "## End of Lab4"
   ]
  },
  {
   "cell_type": "markdown",
   "id": "ae941347",
   "metadata": {},
   "source": [
    "# Lab 5: Using the Workflow SDK methods"
   ]
  },
  {
   "cell_type": "markdown",
   "id": "e8ca35b2",
   "metadata": {},
   "source": [
    "## Objectives\n",
    "\n",
    "* Use the SDK Methods to gather information about your Infoworks configuration\n",
    "* Create a Table Group using the SDK methods\n",
    "* Create a new Workflow using the SDK methods\n",
    "* Run a Workflow using the SDK methods\n",
    "* Retrieve information about a running Workflow using the SDK methods"
   ]
  },
  {
   "cell_type": "markdown",
   "id": "d59bd628",
   "metadata": {},
   "source": [
    "### A. Use the SDK Methods to gather information about your Infoworks configuration"
   ]
  },
  {
   "cell_type": "code",
   "execution_count": 77,
   "id": "0cb0c1d3",
   "metadata": {},
   "outputs": [
    {
     "name": "stdout",
     "output_type": "stream",
     "text": [
      "Infoworks Environment Id: ed1c6973a2d2046f1fe93a20\n",
      "Infoworks Domain Id: f1b68b17e40c11b07fc62128\n",
      "Infoworks Environemnt Storage Id: 5432aa6f7bd670067e7a095b\n",
      "Infoworks Environment Compute Id: c18df68e81968a4647ee3cf5\n",
      "Infoworks Source Id: 644a7835c2c96c5a634beab8\n",
      "Infoworks Pipeline Id: 6480329bc2c96c5a634bf8a6\n",
      "Infoworks Pipeline Version Id: 648037c1c2c96c5a634bf8a8\n"
     ]
    }
   ],
   "source": [
    "# Import Infoworks SDK Client\n",
    "from infoworks.sdk.client import InfoworksClientSDK\n",
    "\n",
    "# Define your Infoworks Environment Details\n",
    "iwx_protocol = \"{protocol}\"\n",
    "iwx_host = \"{hostname}\"\n",
    "iwx_port = \"{portnumber}\"\n",
    "iwx_refresh_token = \"{infoworks_refresh_token}\"\n",
    "iwx_environment_name = \"Azure_external\"\n",
    "iwx_env_storage_name = \"Default_Storage\"\n",
    "iwx_env_compute_name = \"Default_Persistent_Compute_Template_clone11\"\n",
    "iwx_domain_name = \"iwx_sdk_domain1\"\n",
    "iwx_pipeline_name = \"SamplePipeline\"\n",
    "iwx_source_name_rdbms = 'onboardsqlserver'\n",
    "\n",
    "# Initialise the client\n",
    "iwx_client = InfoworksClientSDK()\n",
    "iwx_client.initialize_client_with_defaults(iwx_protocol, iwx_host, iwx_port, iwx_refresh_token)\n",
    "\n",
    "# Fetching Environment Id from Name\n",
    "environment_id_response = iwx_client.get_environment_id_from_name(iwx_environment_name)\n",
    "if environment_id_response['result']['status'] == \"success\":\n",
    "    iwx_environment_id = environment_id_response['result']['response']['environment_id']\n",
    "    if iwx_environment_id:\n",
    "        print(f\"Infoworks Environment Id: {iwx_environment_id}\")\n",
    "    else:\n",
    "        raise Exception(f\"Environment Id Not Found with Name {iwx_environment_name}\")\n",
    "else:\n",
    "    raise Exception(f\"Status Returned as Failed\")\n",
    "\n",
    "# Fetching Domain Id from Name\n",
    "domain_id_response = iwx_client.get_domain_id(iwx_domain_name)\n",
    "if domain_id_response['result']['status'] == 'success':\n",
    "    iwx_domain_id = domain_id_response['result'].get('response', {}).get('domain_id')\n",
    "    if iwx_domain_id:\n",
    "        print(f\"Infoworks Domain Id: {iwx_domain_id}\")\n",
    "    else:\n",
    "        raise Exception(f\"Domain Id Not Found with Name {iwx_domain_name}\")\n",
    "else:\n",
    "    raise Exception(f\"Status Returned as Failed\")\n",
    "\n",
    "# Fetching Storage Id from Name\n",
    "storage_id_response = iwx_client.get_storage_id_from_name(environment_id=iwx_environment_id,\n",
    "                                                          storage_name=iwx_env_storage_name)\n",
    "if storage_id_response['result']['status'] == 'success':\n",
    "    iwx_env_storage_id = storage_id_response['result'].get('response', {}).get('storage_id')\n",
    "    if iwx_env_storage_id:\n",
    "        print(f\"Infoworks Environemnt Storage Id: {iwx_env_storage_id}\")\n",
    "    else:\n",
    "        raise Exception(f\"Storage Id Not Found with Name {iwx_env_storage_name}\")\n",
    "else:\n",
    "    raise Exception(f\"Status Returned as Failed\")\n",
    "\n",
    "# Fetching Compute Id from Name\n",
    "environment_compute_id_response = iwx_client.get_compute_id_from_name(iwx_environment_id, iwx_env_compute_name)\n",
    "if environment_compute_id_response['result']['status'] == \"success\":\n",
    "    iwx_env_compute_id = environment_compute_id_response['result']['response']['compute_id']\n",
    "    if iwx_env_compute_id:\n",
    "        print(f\"Infoworks Environment Compute Id: {iwx_env_compute_id}\")\n",
    "    else:\n",
    "        raise Exception(f\"Failed to find environment compute id from name {iwx_env_compute_name}\")\n",
    "else:\n",
    "    raise Exception(f\"Status Returned as Failed\")\n",
    "    \n",
    "# Fetching Source Id from Name\n",
    "source_id_response = iwx_client.get_sourceid_from_name(iwx_source_name_rdbms)\n",
    "if source_id_response['result']['status'] == \"success\":\n",
    "    iwx_source_id = source_id_response['result'].get('response', {}).get('id')\n",
    "    if iwx_source_id:\n",
    "        print(f\"Infoworks Source Id: {iwx_source_id}\")\n",
    "    else:\n",
    "        raise Exception(f\"Source Id Not Found with Name {iwx_source_name_rdbms}\")\n",
    "else:\n",
    "    raise Exception(f\"Status Returned as Failed\")\n",
    "    \n",
    "# Fetching Source Id from Name\n",
    "pipeline_id_response = iwx_client.get_pipeline_id(iwx_pipeline_name, iwx_domain_id)\n",
    "if pipeline_id_response['result']['status'] == \"success\":\n",
    "    iwx_pipeline_id = pipeline_id_response['result']['pipeline_id']\n",
    "    if iwx_pipeline_id:\n",
    "        print(f\"Infoworks Pipeline Id: {iwx_pipeline_id}\")\n",
    "        pipeline_versions = pipeline_id_response['result']['response'].get('result',[])[0].get('pipeline_versions',[])\n",
    "        for version in pipeline_versions:\n",
    "            if version.get('is_active'):\n",
    "                iwx_pipeline_version_id = version['id']\n",
    "                print(f\"Infoworks Pipeline Version Id: {iwx_pipeline_version_id}\")\n",
    "                break\n",
    "    else:\n",
    "        raise Exception(f\"Pipeline Id Not Found with Name {iwx_pipeline_name}\")\n",
    "else:\n",
    "    raise Exception(f\"Status Returned as Failed\")\n"
   ]
  },
  {
   "cell_type": "markdown",
   "id": "2338ee76",
   "metadata": {},
   "source": [
    "### B. Create a Table Group using the SDK methods"
   ]
  },
  {
   "cell_type": "code",
   "execution_count": 81,
   "id": "7d6d0233",
   "metadata": {},
   "outputs": [
    {
     "name": "stdout",
     "output_type": "stream",
     "text": [
      "Table Group Config: {'name': 'SampleTableGroup', 'source': '644a7835c2c96c5a634beab8', 'environment_compute_template': {'environment_compute_template_id': 'c18df68e81968a4647ee3cf5'}, 'max_connections': 1, 'max_parallel_entities': 1, 'tables': [{'table_id': '644a7868c2c96c5a634beaba', 'connection_quota': 100}]}\n",
      "Response: {'error': {'error_code': None, 'error_desc': None}, 'result': {'job_id': None, 'status': 'success', 'source_id': '', 'response': '64807d85c2c96c5a634bf8ab'}}\n",
      "Table Group created successfully: 64807d85c2c96c5a634bf8ab\n"
     ]
    }
   ],
   "source": [
    "# Configure Table and Table Group Properties\n",
    "iwx_table_name = 'customer'\n",
    "iwx_table_group_name = 'SampleTableGroup'\n",
    "\n",
    "iwx_table_id = iwx_client.get_tableid_from_name(iwx_source_id, table_name)\n",
    "\n",
    "table_group_config = {\n",
    "    \"name\": iwx_table_group_name,\n",
    "    \"source\": iwx_source_id,\n",
    "    \"environment_compute_template\":{\n",
    "        \"environment_compute_template_id\": iwx_env_compute_id\n",
    "    },\n",
    "    \"max_connections\": 1,\n",
    "    \"max_parallel_entities\": 1,\n",
    "    \"tables\":[\n",
    "        {\n",
    "            \"table_id\": iwx_table_id,\n",
    "            \"connection_quota\": 100\n",
    "        }\n",
    "    ]\n",
    "    \n",
    "}\n",
    "\n",
    "print(f\"Table Group Config: {table_group_config}\")\n",
    "\n",
    "create_table_group_response = iwx_client.create_table_group(iwx_source_id, table_group_config)\n",
    "\n",
    "print(f\"Response: {create_table_group_response}\")\n",
    "\n",
    "if create_table_group_response['result']['status'] == \"success\":\n",
    "    iwx_table_group_id = create_table_group_response['result']['response']\n",
    "    if iwx_table_group_id:\n",
    "        print(f\"Table Group created successfully: {iwx_table_group_id}\")\n",
    "    else:\n",
    "        print(\"Failed to create table group\")\n",
    "else:\n",
    "    print(\"Failed to create table group\")"
   ]
  },
  {
   "cell_type": "markdown",
   "id": "e719edf4",
   "metadata": {},
   "source": [
    "### C. Create a new Workflow using the SDK Methods"
   ]
  },
  {
   "cell_type": "code",
   "execution_count": 88,
   "id": "6b22cf6e",
   "metadata": {},
   "outputs": [
    {
     "name": "stdout",
     "output_type": "stream",
     "text": [
      "Workflow Config: {'name': 'SampleWorkflow', 'workflow_graph': {'tasks': [{'is_group': False, 'task_type': 'ingest_table_group', 'task_id': 'AA_STP1', 'title': 'Ingest_Table_Group', 'description': '', 'task_properties': {'source_id': '644a7835c2c96c5a634beab8', 'table_group_id': '64807d85c2c96c5a634bf8ab', 'ingest_type': 'truncate-reload-all'}, 'run_properties': {'trigger_rule': 'all_success', 'num_retries': 0}, 'workflow_variables': []}], 'edges': []}}\n",
      "Response: {'error': {'error_code': None, 'error_desc': None}, 'result': {'job_id': None, 'status': 'success', 'workflow_id': '648162aac2c96c5a634bf8ae', 'response': {'message': 'Workflow Successfully Created', 'result': {'id': '648162aac2c96c5a634bf8ae'}}}}\n",
      "Worfklow created successfully: 648162aac2c96c5a634bf8ae\n"
     ]
    }
   ],
   "source": [
    "# Configure Workflow Details\n",
    "iwx_workflow_name = 'SampleWorkflow'\n",
    "workflow_config ={\n",
    "    \"name\": iwx_workflow_name,\n",
    "    \"workflow_graph\": {\n",
    "        \"tasks\":[\n",
    "            {\n",
    "                \"is_group\": False,\n",
    "                \"task_type\": \"ingest_table_group\",\n",
    "                \"task_id\": \"AA_STP1\",\n",
    "                \"title\": \"Ingest_Table_Group\",\n",
    "                \"description\": \"\",\n",
    "                \"task_properties\": {\n",
    "                    \"source_id\": iwx_source_id,\n",
    "                    \"table_group_id\": iwx_table_group_id,\n",
    "                    \"ingest_type\": \"truncate-reload-all\"\n",
    "                },\n",
    "                \"run_properties\":{\n",
    "                    \"trigger_rule\": \"all_success\",\n",
    "                    \"num_retries\": 0\n",
    "                },\n",
    "                \"workflow_variables\": [],\n",
    "            }\n",
    "        ],\n",
    "        \"edges\": []\n",
    "    } \n",
    "}\n",
    "\n",
    "print(f\"Workflow Config: {workflow_config}\")\n",
    "\n",
    "create_workflow_response = iwx_client.create_workflow(iwx_domain_id, workflow_config)\n",
    "\n",
    "\n",
    "print(f\"Response: {create_workflow_response}\")\n",
    "\n",
    "if create_workflow_response['result']['status'] == \"success\":\n",
    "    iwx_workflow_id = create_workflow_response['result']['response'].get('result',{}).get('id')\n",
    "    if iwx_workflow_id:\n",
    "        print(f\"Worfklow created successfully: {iwx_workflow_id}\")\n",
    "    else:\n",
    "        print(\"Failed to create workflow\")\n",
    "else:\n",
    "    print(\"Failed to create workflow\")"
   ]
  },
  {
   "cell_type": "markdown",
   "id": "b26e7702",
   "metadata": {},
   "source": [
    "### D. Run a Workflow using the REST API"
   ]
  },
  {
   "cell_type": "code",
   "execution_count": 92,
   "id": "42e57b0d",
   "metadata": {},
   "outputs": [
    {
     "name": "stdout",
     "output_type": "stream",
     "text": [
      "Reponse: {'error': {'error_code': None, 'error_desc': None}, 'result': {'job_id': None, 'status': 'success', 'workflow_id': '648162aac2c96c5a634bf8ae', 'response': {'message': 'Successfully Triggered Workflow.', 'result': {'id': '64816b97c2c96c5a634bf8b0'}}}}\n",
      "Submitted workflow successfully: 64816b97c2c96c5a634bf8b0\n"
     ]
    }
   ],
   "source": [
    "trigger_worfklow_response = iwx_client.trigger_workflow(iwx_workflow_id ,iwx_domain_id)\n",
    "\n",
    "print(f\"Reponse: {trigger_worfklow_response}\")\n",
    "\n",
    "if trigger_worfklow_response['result']['status'] == \"success\":\n",
    "    iwx_workflow_run_id = trigger_worfklow_response['result']['response'].get('result',{}).get('id')\n",
    "    if iwx_workflow_run_id:\n",
    "        print(f\"Submitted workflow successfully: {iwx_workflow_run_id}\")\n",
    "    else:\n",
    "        print(f\"Failed to submit workflow\")\n",
    "else:\n",
    "    print(\"Failed to submit workflow\")"
   ]
  },
  {
   "cell_type": "markdown",
   "id": "4e89865c",
   "metadata": {},
   "source": [
    "### E. Retrieve information about a running Workflow using the REST API"
   ]
  },
  {
   "cell_type": "code",
   "execution_count": 95,
   "id": "edfe9d1c",
   "metadata": {},
   "outputs": [
    {
     "name": "stdout",
     "output_type": "stream",
     "text": [
      "Reponse: {'error': {'error_code': None, 'error_desc': None}, 'result': {'job_id': None, 'status': 'success', 'workflow_id': '648162aac2c96c5a634bf8ae', 'response': {'message': 'Found Workflow(s).', 'result': {'id': '64816b97c2c96c5a634bf8b0', 'workflow_id': '648162aac2c96c5a634bf8ae', 'workflow_name': 'SampleWorkflow', 'created_at': '2023-06-08T05:48:07.865Z', 'created_by': '6RkfybTRQQByEey3v', 'modified_at': '2023-06-08T05:48:30.861Z', 'modified_by': '', 'tasks_status': [{'task_id': 'AA_STP1', 'task_title': 'Ingest_Table_Group', 'task_state': 'running', 'task_start_time': '2023-06-08 05:48:21.510037+00:00', 'task_end_time': ''}], 'workflow_graph': {'tasks': [{'is_group': False, 'task_type': 'ingest_table_group', 'task_id': 'AA_STP1', 'title': 'Ingest_Table_Group', 'description': '', 'task_properties': {'source_id': '644a7835c2c96c5a634beab8', 'table_group_id': '64807d85c2c96c5a634bf8ab', 'ingest_type': 'truncate-reload-all'}, 'run_properties': {'trigger_rule': 'all_success', 'num_retries': 0}, 'workflow_variables': [{'key': 'job_id', 'value': {'$oid': '64816ba7c2c96c5a634bf8b3'}}]}], 'edges': []}, 'workflow_status': {'run_id': '64816b97c2c96c5a634bf8b0', 'state': 'running', 'start_date': '2023-06-08T05:48:09.321Z'}, 'triggered_by': {'id': '6RkfybTRQQByEey3v', 'type': 'user'}}}}}\n",
      "Workflow Run Details: {'id': '64816b97c2c96c5a634bf8b0', 'workflow_id': '648162aac2c96c5a634bf8ae', 'workflow_name': 'SampleWorkflow', 'created_at': '2023-06-08T05:48:07.865Z', 'created_by': '6RkfybTRQQByEey3v', 'modified_at': '2023-06-08T05:48:30.861Z', 'modified_by': '', 'tasks_status': [{'task_id': 'AA_STP1', 'task_title': 'Ingest_Table_Group', 'task_state': 'running', 'task_start_time': '2023-06-08 05:48:21.510037+00:00', 'task_end_time': ''}], 'workflow_graph': {'tasks': [{'is_group': False, 'task_type': 'ingest_table_group', 'task_id': 'AA_STP1', 'title': 'Ingest_Table_Group', 'description': '', 'task_properties': {'source_id': '644a7835c2c96c5a634beab8', 'table_group_id': '64807d85c2c96c5a634bf8ab', 'ingest_type': 'truncate-reload-all'}, 'run_properties': {'trigger_rule': 'all_success', 'num_retries': 0}, 'workflow_variables': [{'key': 'job_id', 'value': {'$oid': '64816ba7c2c96c5a634bf8b3'}}]}], 'edges': []}, 'workflow_status': {'run_id': '64816b97c2c96c5a634bf8b0', 'state': 'running', 'start_date': '2023-06-08T05:48:09.321Z'}, 'triggered_by': {'id': '6RkfybTRQQByEey3v', 'type': 'user'}}\n"
     ]
    }
   ],
   "source": [
    "get_workflow_run_response = iwx_client.get_workflow_run_details(iwx_workflow_id, iwx_workflow_run_id)\n",
    "\n",
    "print(f\"Reponse: {get_workflow_run_response}\")\n",
    "\n",
    "if get_workflow_run_response['result']['status'] == \"success\":\n",
    "    print(f\"Workflow Run Details: {get_workflow_run_response['result']['response'].get('result')}\")\n",
    "else:\n",
    "    print(\"Failed to get workflow run details\")"
   ]
  },
  {
   "cell_type": "markdown",
   "id": "ac18a369",
   "metadata": {},
   "source": [
    "## End of Lab 5"
   ]
  },
  {
   "cell_type": "markdown",
   "id": "0f6bbf65",
   "metadata": {},
   "source": [
    "# Lab 6: Miscellaneous Utilities with Useful Functionalities"
   ]
  },
  {
   "cell_type": "markdown",
   "id": "73a4f16e",
   "metadata": {},
   "source": [
    "## Objectives\n",
    "\n",
    "* Export Source Configurations\n",
    "* Retrieving and using workload metrics"
   ]
  },
  {
   "cell_type": "markdown",
   "id": "65302bd9",
   "metadata": {},
   "source": [
    "### Export Source Configurations"
   ]
  },
  {
   "cell_type": "code",
   "execution_count": null,
   "id": "26887893",
   "metadata": {},
   "outputs": [],
   "source": [
    "# Import Modules\n",
    "import os\n",
    "import json\n",
    "import time\n",
    "from infoworks.sdk.client import InfoworksClientSDK\n",
    "\n",
    "# Define your Infoworks Environment Details\n",
    "iwx_protocol = \"{protocol}\"\n",
    "iwx_host = \"{hostname}\"\n",
    "iwx_port = \"{portnumber}\"\n",
    "iwx_refresh_token = \"{infoworks_refresh_token}\"\n",
    "export_configs_dir = '/Users/sanath.singavarapu/PycharmProjects/IWXRestAPI/AdHoc Scripts/exported_configs'\n",
    "\n",
    "# Initialise the client\n",
    "iwx_client = InfoworksClientSDK()\n",
    "iwx_client.initialize_client_with_defaults(iwx_protocol, iwx_host, iwx_port, iwx_refresh_token)\n",
    "\n",
    "# Create output directory\n",
    "try:\n",
    "    if not os.path.exists(export_configs_dir):\n",
    "        print(\"Folder does not exsist creating new folder.\")\n",
    "        os.makedirs(export_configs_dir)\n",
    "except OSError as dir_creation_error:\n",
    "    raise Exception(f\"LogDirCreationException: Failed to Create Log Directory {export_configs_dir}\"\n",
    "                    f\" - Error: {dir_creation_error}\")\n",
    "\n",
    "# Get list of sources\n",
    "\n",
    "list_sources_response = iwx_client.get_list_of_sources()\n",
    "sources = list_sources_response['result']['response'].get('result')\n",
    "\n",
    "if sources:\n",
    "    for source in sources:\n",
    "        source_id = source.get('id')\n",
    "        source_name = source.get('name')\n",
    "        config = iwx_client.get_source_configurations_json_export(source_id)['result']['response'].get('result')\n",
    "        filename = \"{output_dir}/source-config-{name}.json\".format(output_dir=export_configs_dir,name=source_name)\n",
    "        print(f\"Writing configuration for {source_name} to {filename}\")\n",
    "        with open(filename, \"w\") as output:\n",
    "            output.write(json.dumps(config, indent=4))\n",
    "else:\n",
    "    print(\"No Sources Found\")"
   ]
  },
  {
   "cell_type": "markdown",
   "id": "5326ffb1",
   "metadata": {},
   "source": [
    "### Retrieving and using workload metrics"
   ]
  },
  {
   "cell_type": "code",
   "execution_count": 121,
   "id": "9c4b7ac0",
   "metadata": {},
   "outputs": [
    {
     "name": "stdout",
     "output_type": "stream",
     "text": [
      "Infoworks Source Id: 39fa8a717e671eec86ae2033\n",
      "Gathering Ingestion Metircs for Employee\n",
      "Gathering Ingestion Metircs for employee_details\n",
      "Gathering Ingestion Metircs for a_zzz\n",
      "Gathering Ingestion Metircs for dim_state\n",
      "Gathering Ingestion Metircs for Testtable\n",
      "Gathering Ingestion Metircs for query_as_table_customer\n",
      "Gathering Ingestion Metircs for persons_error\n",
      "Exported Ingestion metrics into /Users/sanath.singavarapu/PycharmProjects/IWXRestAPI/AdHoc Scripts/source-metrics-sql_src_new.csv\n"
     ]
    }
   ],
   "source": [
    "# Import Modules\n",
    "import os\n",
    "import json\n",
    "import time\n",
    "import pandas as pd\n",
    "from infoworks.sdk.client import InfoworksClientSDK\n",
    "\n",
    "# Define your Infoworks Environment Details\n",
    "iwx_protocol = \"{protocol}\"\n",
    "iwx_host = \"{hostname}\"\n",
    "iwx_port = \"{portnumber}\"\n",
    "iwx_refresh_token = \"{infoworks_refresh_token}\"\n",
    "iwx_source_name = \"sql_src_new\"\n",
    "ingestion_metrics_dir = \"\"\n",
    "\n",
    "# Initialise the client\n",
    "iwx_client = InfoworksClientSDK()\n",
    "iwx_client.initialize_client_with_defaults(iwx_protocol, iwx_host, iwx_port, iwx_refresh_token)\n",
    "\n",
    "# Fetching Source Id from Name\n",
    "source_id_response = iwx_client.get_sourceid_from_name(iwx_source_name)\n",
    "if source_id_response['result']['status'] == \"success\":\n",
    "    iwx_source_id = source_id_response['result'].get('response', {}).get('id')\n",
    "    if iwx_source_id:\n",
    "        print(f\"Infoworks Source Id: {iwx_source_id}\")\n",
    "    else:\n",
    "        raise Exception(f\"Source Id Not Found with Name {iwx_source_name_rdbms}\")\n",
    "else:\n",
    "    raise Exception(f\"Status Returned as Failed\")\n",
    "    \n",
    "# Get List of Tables\n",
    "list_tables_response = iwx_client.list_tables_in_source(iwx_source_id)\n",
    "tables = list_tables_response['result']['response'].get('result')\n",
    "all_metrics = []\n",
    "if tables:\n",
    "    for table in tables:\n",
    "        table_id = table.get('id')\n",
    "        table_name = table.get('name')\n",
    "        print(f\"Gathering Ingestion Metircs for {table_name}\")\n",
    "        ingestion_metrics_response = iwx_client.get_table_ingestion_metrics(iwx_source_id, table_id)\n",
    "        all_metrics.extend(ingestion_metrics_response['result']['response'])\n",
    "    \n",
    "    df = pd.DataFrame(all_metrics)\n",
    "    if ingestion_metrics_dir==\"\":\n",
    "        ingestion_metrics_dir=os.getcwd()\n",
    "        \n",
    "    file_name = '{output_dir}/source-metrics-{source_name}.csv'.format(output_dir=ingestion_metrics_dir, \n",
    "                                                                       source_name=iwx_source_name)\n",
    "    df.to_csv(file_name, index=False)\n",
    "    print(f\"Exported Ingestion metrics into {file_name}\")\n",
    "else:\n",
    "    print(\"No Tables Found\")\n"
   ]
  },
  {
   "cell_type": "markdown",
   "id": "38063e53",
   "metadata": {},
   "source": [
    "## End of Lab6"
   ]
  },
  {
   "cell_type": "code",
   "execution_count": null,
   "id": "74319569",
   "metadata": {},
   "outputs": [],
   "source": []
  }
 ],
 "metadata": {
  "kernelspec": {
   "display_name": "Python 3 (ipykernel)",
   "language": "python",
   "name": "python3"
  },
  "language_info": {
   "codemirror_mode": {
    "name": "ipython",
    "version": 3
   },
   "file_extension": ".py",
   "mimetype": "text/x-python",
   "name": "python",
   "nbconvert_exporter": "python",
   "pygments_lexer": "ipython3",
   "version": "3.9.5"
  }
 },
 "nbformat": 4,
 "nbformat_minor": 5
}
